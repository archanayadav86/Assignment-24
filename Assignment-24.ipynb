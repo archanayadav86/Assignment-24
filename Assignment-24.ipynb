{
 "cells": [
  {
   "cell_type": "markdown",
   "metadata": {},
   "source": [
    "# 1. What is the relationship between def statements and lambda expressions ?\n",
    "\n",
    "Ans--> Def function is used within the function name and mutiple loops can be used inside the def function and if we want to return function than we need to use return keyword whereas in lambda no need to use return explicitely it will return value without using return keyword and we cannot use multiple loops and function within lambda function."
   ]
  },
  {
   "cell_type": "markdown",
   "metadata": {},
   "source": [
    "# 2. What is the benefit of lambda?\n",
    "Ans --> Lambda function will take parameter and variable at one instance and solve the query without using return function. "
   ]
  },
  {
   "cell_type": "markdown",
   "metadata": {},
   "source": [
    "# 3. Compare and contrast map, filter, and reduce.\n",
    "Ans--> The map() function iterates through all items in the given iterable and executes the function we passed as an argument on each of them.\n",
    "2. filter() takes a function object and an iterable and creates a new list.\n",
    "3. reduce() works differently than map() and filter(). It does not return a new list based on the function and iterable we've passed. Instead, it returns a single value."
   ]
  },
  {
   "cell_type": "markdown",
   "metadata": {},
   "source": [
    "# 4. What are function annotations, and how are they used?\n",
    "Ans--> Function annotation is the standard way to access the metadata with the arguments and the return value of the function."
   ]
  },
  {
   "cell_type": "markdown",
   "metadata": {},
   "source": [
    "# 5. What are recursive functions, and how are they used?\n",
    "Ans--> It is a process to solve a problem by first defining it and than dividing it into small parts and than searching for result and then using that result plus some other computation to formulate the answer to the original problem then using that result plus some other computation to formulate the answer to the original problem."
   ]
  },
  {
   "cell_type": "markdown",
   "metadata": {},
   "source": [
    "# 6. What are some general design guidelines for coding functions?\n",
    "\n",
    "Ans--> Coding rules and guidelines ensure that software is:\n",
    "\n",
    "Safe: It can be used without causing harm.\n",
    "Secure: It can’t be hacked.\n",
    "Reliable: It functions as it should, every time.\n",
    "Testable: It can be tested at the code level.\n",
    "Maintainable: It can be maintained, even as your codebase grows.\n",
    "Portable: It works the same in every environment."
   ]
  },
  {
   "cell_type": "markdown",
   "metadata": {},
   "source": [
    "# 7. Name three or more ways that functions can communicate results to a caller?\n",
    "Ans--> Call by Value. Call by Reference."
   ]
  },
  {
   "cell_type": "code",
   "execution_count": null,
   "metadata": {},
   "outputs": [],
   "source": []
  }
 ],
 "metadata": {
  "kernelspec": {
   "display_name": "Python 3",
   "language": "python",
   "name": "python3"
  },
  "language_info": {
   "codemirror_mode": {
    "name": "ipython",
    "version": 3
   },
   "file_extension": ".py",
   "mimetype": "text/x-python",
   "name": "python",
   "nbconvert_exporter": "python",
   "pygments_lexer": "ipython3",
   "version": "3.7.6"
  }
 },
 "nbformat": 4,
 "nbformat_minor": 4
}
